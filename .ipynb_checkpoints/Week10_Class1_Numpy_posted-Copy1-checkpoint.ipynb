{
 "cells": [
  {
   "cell_type": "code",
   "execution_count": 70,
   "metadata": {},
   "outputs": [],
   "source": [
    "import numpy as np"
   ]
  },
  {
   "cell_type": "markdown",
   "metadata": {
    "id": "mLtGdNG7AOto"
   },
   "source": [
    "# Data Types"
   ]
  },
  {
   "cell_type": "markdown",
   "metadata": {
    "id": "eRg0yV7RoIOj"
   },
   "source": [
    "##### Instruction: Run code, observe output and answer the questions"
   ]
  },
  {
   "cell_type": "code",
   "execution_count": 71,
   "metadata": {
    "id": "VYOwF1L8_Qmc"
   },
   "outputs": [
    {
     "data": {
      "text/plain": [
       "(1.0, '1')"
      ]
     },
     "execution_count": 71,
     "metadata": {},
     "output_type": "execute_result"
    }
   ],
   "source": [
    "f = np.float_(1)\n",
    "s = np.str_(1)\n",
    "(f, s)"
   ]
  },
  {
   "cell_type": "code",
   "execution_count": 72,
   "metadata": {
    "id": "dvTkzELgFyQK"
   },
   "outputs": [
    {
     "data": {
      "text/plain": [
       "dtype('float64')"
      ]
     },
     "execution_count": 72,
     "metadata": {},
     "output_type": "execute_result"
    }
   ],
   "source": [
    "f.dtype"
   ]
  },
  {
   "cell_type": "code",
   "execution_count": 73,
   "metadata": {
    "id": "_DFnoYfHF2k_"
   },
   "outputs": [
    {
     "data": {
      "text/plain": [
       "'str32'"
      ]
     },
     "execution_count": 73,
     "metadata": {},
     "output_type": "execute_result"
    }
   ],
   "source": [
    "s.dtype.name"
   ]
  },
  {
   "cell_type": "markdown",
   "metadata": {
    "id": "VSSRbsOqGBZL"
   },
   "source": [
    "Question: What do type and type.name give ?"
   ]
  },
  {
   "cell_type": "markdown",
   "metadata": {
    "id": "PqGjz-C1GMje"
   },
   "source": [
    "Answer: # Type your answer here"
   ]
  },
  {
   "cell_type": "markdown",
   "metadata": {
    "id": "0Daz6DEfGTd-"
   },
   "source": [
    "# Data Type Conversion"
   ]
  },
  {
   "cell_type": "markdown",
   "metadata": {
    "id": "cyBsep1-oKRp"
   },
   "source": [
    "##### Instruction: Run code, observe output and answer the questions"
   ]
  },
  {
   "cell_type": "code",
   "execution_count": 74,
   "metadata": {
    "id": "UDyjZpcsF6jW"
   },
   "outputs": [
    {
     "data": {
      "text/plain": [
       "(0.1, 0.099975586, 0.0999755859375)"
      ]
     },
     "execution_count": 74,
     "metadata": {},
     "output_type": "execute_result"
    }
   ],
   "source": [
    "f16 = np.float16(0.1)\n",
    "f32 = np.float32(f16)\n",
    "f64 = np.float64(f32)\n",
    "(f16, f32, f64)"
   ]
  },
  {
   "cell_type": "code",
   "execution_count": 75,
   "metadata": {
    "id": "GQgfY4agF86L"
   },
   "outputs": [
    {
     "data": {
      "text/plain": [
       "dtype('float16')"
      ]
     },
     "execution_count": 75,
     "metadata": {},
     "output_type": "execute_result"
    }
   ],
   "source": [
    "newf = f64.astype(np.float16)\n",
    "newf.dtype"
   ]
  },
  {
   "cell_type": "markdown",
   "metadata": {
    "id": "lZw7XXmDGm7q"
   },
   "source": [
    "Question: What can you tell about the differences between data types numpy.float16, numpy.float32 and numpy.float64?"
   ]
  },
  {
   "cell_type": "markdown",
   "metadata": {
    "id": "d0JIX7t1Gnp5"
   },
   "source": [
    "Answer: # Type your answer here"
   ]
  },
  {
   "cell_type": "markdown",
   "metadata": {
    "id": "K9PJZ_0eGpqt"
   },
   "source": [
    "Question: What does astype do?"
   ]
  },
  {
   "cell_type": "markdown",
   "metadata": {
    "id": "t3_8DzLvGv8J"
   },
   "source": [
    "Answer: # Type your answer here"
   ]
  },
  {
   "cell_type": "markdown",
   "metadata": {
    "id": "AD1csFL5GyVB"
   },
   "source": [
    "# Array Creation and Array Dimension"
   ]
  },
  {
   "cell_type": "markdown",
   "metadata": {
    "id": "K5OTi4dEoMPC"
   },
   "source": [
    "##### Instruction: Run code, observe output and answer the questions"
   ]
  },
  {
   "cell_type": "code",
   "execution_count": 76,
   "metadata": {
    "id": "zlllXb5jGx-x"
   },
   "outputs": [
    {
     "data": {
      "text/plain": [
       "array([1, 3, 4, 5])"
      ]
     },
     "execution_count": 76,
     "metadata": {},
     "output_type": "execute_result"
    }
   ],
   "source": [
    "a1 = np.array([1,3,4,5])\n",
    "a1"
   ]
  },
  {
   "cell_type": "code",
   "execution_count": 77,
   "metadata": {
    "id": "eLwZhKMxGw8n"
   },
   "outputs": [
    {
     "data": {
      "text/plain": [
       "array(['1', '3', '4', '5'], dtype='<U1')"
      ]
     },
     "execution_count": 77,
     "metadata": {},
     "output_type": "execute_result"
    }
   ],
   "source": [
    "a2 = np.array([1,3,4,5], dtype=np.str_)\n",
    "a2"
   ]
  },
  {
   "cell_type": "code",
   "execution_count": 78,
   "metadata": {
    "id": "mMiQq4t-G7km"
   },
   "outputs": [
    {
     "data": {
      "text/plain": [
       "array([1.+0.j, 3.+0.j, 4.+0.j, 5.+0.j])"
      ]
     },
     "execution_count": 78,
     "metadata": {},
     "output_type": "execute_result"
    }
   ],
   "source": [
    "a3 = np.array([1,3,4,5], dtype=np.complex_)\n",
    "a3"
   ]
  },
  {
   "cell_type": "markdown",
   "metadata": {
    "id": "NAYSlWA2HAh_"
   },
   "source": [
    "Question: What is the difference between a1, a2, and a3?"
   ]
  },
  {
   "cell_type": "markdown",
   "metadata": {
    "id": "we_E1ZcMHBz7"
   },
   "source": [
    "Answer: # Type your answer here"
   ]
  },
  {
   "cell_type": "code",
   "execution_count": 79,
   "metadata": {
    "id": "8-VBxVMiHIDF"
   },
   "outputs": [
    {
     "data": {
      "text/plain": [
       "array([[2., 3., 4., 5.],\n",
       "       [6., 7., 8., 9.]])"
      ]
     },
     "execution_count": 79,
     "metadata": {},
     "output_type": "execute_result"
    }
   ],
   "source": [
    "b = np.array([[2,3,4,5],[6,7,8,9]], dtype=float)\n",
    "b"
   ]
  },
  {
   "cell_type": "code",
   "execution_count": 80,
   "metadata": {
    "id": "oEBbd90KJoGC"
   },
   "outputs": [],
   "source": [
    "c = np.array([[[3.8,4,5,6],[7,8,9,10]],[[11,12,13,14],[15,16,17,18]],[[21,22,23,24],[25,26,27,28]]], dtype=np.int_)"
   ]
  },
  {
   "cell_type": "markdown",
   "metadata": {
    "id": "gC8hOOXdJqEE"
   },
   "source": [
    "Question: What is the dimension of b? Indicate number of rows and number of columns."
   ]
  },
  {
   "cell_type": "markdown",
   "metadata": {
    "id": "SVk-IRz8JwVK"
   },
   "source": [
    "Answer:  # Type your answer here"
   ]
  },
  {
   "cell_type": "markdown",
   "metadata": {
    "id": "0G4ui2IlazrY"
   },
   "source": [
    "Question: What is the dimension of c ? Indicate number of sheets, number of rows and number of columns."
   ]
  },
  {
   "cell_type": "markdown",
   "metadata": {
    "id": "AvJsr0mva0ek"
   },
   "source": [
    "Answer: # Type your answer here"
   ]
  },
  {
   "cell_type": "markdown",
   "metadata": {
    "id": "TVDYgu_pbOpI"
   },
   "source": [
    "Question: What is the function to find dimension of numpy array ?"
   ]
  },
  {
   "cell_type": "markdown",
   "metadata": {
    "id": "M2FqhnlybUT_"
   },
   "source": [
    "Answer: # Type your answer here"
   ]
  },
  {
   "cell_type": "code",
   "execution_count": 81,
   "metadata": {
    "id": "590sMNi5bCWQ"
   },
   "outputs": [
    {
     "name": "stdout",
     "output_type": "stream",
     "text": [
      "(4,)\n",
      "(2, 4)\n",
      "(3, 2, 4)\n"
     ]
    }
   ],
   "source": [
    "a = np.array([1,3,4,5])\n",
    "b = np.array([[2,3,4,5],[6,7,8,9]], dtype=float)\n",
    "c = np.array([[[3.8,4,5,6],[7,8,9,10]],[[11,12,13,14],[15,16,17,18]],[[21,22,23,24],[25,26,27,28]]], dtype=np.int_)\n",
    "\n",
    "print(a.shape)\n",
    "print(b.shape)\n",
    "print(c.shape)"
   ]
  },
  {
   "cell_type": "code",
   "execution_count": 82,
   "metadata": {
    "id": "V5WhHH2ObZ2f"
   },
   "outputs": [
    {
     "name": "stdout",
     "output_type": "stream",
     "text": [
      "4\n",
      "2\n",
      "3\n"
     ]
    }
   ],
   "source": [
    "a = np.array([1,3,4,5])\n",
    "b = np.array([[2,3,4,5],[6,7,8,9]], dtype=float)\n",
    "c = np.array([[[3.8,4,5,6],[7,8,9,10]],[[11,12,13,14],[15,16,17,18]],[[21,22,23,24],[25,26,27,28]]], dtype=np.int_)\n",
    "\n",
    "print(len(a))\n",
    "print(len(b))\n",
    "print(len(c))\n"
   ]
  },
  {
   "cell_type": "code",
   "execution_count": 83,
   "metadata": {
    "id": "wjLkE1Pfbc9B"
   },
   "outputs": [
    {
     "name": "stdout",
     "output_type": "stream",
     "text": [
      "4\n",
      "8\n",
      "24\n"
     ]
    }
   ],
   "source": [
    "a = np.array([1,3,4,5])\n",
    "b = np.array([[2,3,4,5],[6,7,8,9]], dtype=float)\n",
    "c = np.array([[[3.8,4,5,6],[7,8,9,10]],[[11,12,13,14],[15,16,17,18]],[[21,22,23,24],[25,26,27,28]]], dtype=np.int_)\n",
    "\n",
    "print(a.size)\n",
    "print(b.size)\n",
    "print(c.size)\n"
   ]
  },
  {
   "cell_type": "markdown",
   "metadata": {
    "id": "FIgfuVBFbgon"
   },
   "source": [
    "Question: What are differences between shape, size, and len()?"
   ]
  },
  {
   "cell_type": "markdown",
   "metadata": {
    "id": "yqsNlnwlbn3t"
   },
   "source": [
    "Answer: # Type your answer here"
   ]
  },
  {
   "cell_type": "markdown",
   "metadata": {
    "id": "KDNrgs6hbpQQ"
   },
   "source": [
    "<caption><u><b>Exercise 0</u></b>: <br></caption>\n",
    "\n",
    "Question: If we want to find out data type of of c, fill out the code below and run to check the output of your code is expected or not."
   ]
  },
  {
   "cell_type": "code",
   "execution_count": 84,
   "metadata": {
    "id": "ryD4rQs0b-GI"
   },
   "outputs": [],
   "source": [
    "# Fill in the code for Exercise 0 here\n"
   ]
  },
  {
   "cell_type": "markdown",
   "metadata": {
    "id": "1oIBMmZOcDsY"
   },
   "source": [
    "# Array Access and Special Arrays"
   ]
  },
  {
   "cell_type": "markdown",
   "metadata": {
    "id": "m2xiq0jtcLcv"
   },
   "source": [
    "##### Instruction: If we would like to construct an array as shown in the shown images, what to fill for the code to construct such array?  \n",
    "##### Note that you may need more than one line of code to construct the array.  Also, beware of data type."
   ]
  },
  {
   "cell_type": "markdown",
   "metadata": {
    "id": "p3ewRIXEcSGS"
   },
   "source": [
    "<caption><u><b>Exercise 1</u></b>: Expect an output as shown in the image here: <br></caption>\n",
    "    \n",
    "![picture](images/numpy_array_example1.png)\n",
    "\n",
    "If you cannot see the image, click this link: https://drive.google.com/file/d/1bgBMGc8ujVg__O177l5S9GookiXjDELh/view?usp=drive_link"
   ]
  },
  {
   "cell_type": "code",
   "execution_count": 85,
   "metadata": {
    "id": "1zXU_toGcOLN"
   },
   "outputs": [],
   "source": [
    "# Fill in the code to receive the expected output from Exercise 1\n"
   ]
  },
  {
   "cell_type": "markdown",
   "metadata": {
    "id": "5ORNnQSSAc5y"
   },
   "source": [
    "<caption><u><b>Exercise 2</u></b>: Expect an output  as shown in the image here: <br></caption>\n",
    "    \n",
    "![picture](images/numpy_array_example2.png)\n",
    "\n",
    "If you cannot see the image, click this link: https://drive.google.com/file/d/1WiwhuBBjO34qbRC4ROBYsJoK9jS9_Sz6/view?usp=sharing"
   ]
  },
  {
   "cell_type": "code",
   "execution_count": 86,
   "metadata": {
    "id": "8hTKZ36mipQO"
   },
   "outputs": [],
   "source": [
    "# Fill in the code to receive the expected output from Exercise 2\n"
   ]
  },
  {
   "cell_type": "markdown",
   "metadata": {
    "id": "hN0uNuO_ivXQ"
   },
   "source": [
    "# Array Slicing"
   ]
  },
  {
   "cell_type": "markdown",
   "metadata": {
    "id": "SkIGWk1JixgI"
   },
   "source": [
    "##### Instruction: If we would like to use Numpy array slicing to construct a Numpy array as shown in the output, what to fill for the code?  "
   ]
  },
  {
   "cell_type": "markdown",
   "metadata": {
    "id": "jrzv-I4ri2mz"
   },
   "source": [
    "<caption><u><b>Exercise 3</u></b>: Expected output <br></caption>\n",
    "\n",
    "[4. 5. 6.]"
   ]
  },
  {
   "cell_type": "code",
   "execution_count": 87,
   "metadata": {
    "id": "vs6_bJCBi-xo"
   },
   "outputs": [],
   "source": [
    "x = np.array([2,3,4,5,6,7,8,9], dtype=float)\n",
    "# Fill in the code to receive the expected output from Exercise 3\n"
   ]
  },
  {
   "cell_type": "markdown",
   "metadata": {
    "id": "H5gsX3QEmw9H"
   },
   "source": [
    "<caption><u><b>Exercise 4</u></b>:  Expected output <br></caption\n",
    "\n",
    "[6. 9.]"
   ]
  },
  {
   "cell_type": "code",
   "execution_count": 88,
   "metadata": {
    "id": "2tXJFXq1mt1g"
   },
   "outputs": [],
   "source": [
    "x = np.array([2,3,4,5,6,7,8,9], dtype=float)\n",
    "# Fill the code to receive the expected output from Exercise 4\n"
   ]
  },
  {
   "cell_type": "markdown",
   "metadata": {
    "id": "lSqKG3nJnCDW"
   },
   "source": [
    "<caption><u><b>Exercise 5</u></b>: Expected output <br></caption>\n",
    "\n",
    "[28 27 26 25 24 23 22 21]"
   ]
  },
  {
   "cell_type": "code",
   "execution_count": 89,
   "metadata": {
    "id": "I2EKmIWom8ye"
   },
   "outputs": [],
   "source": [
    "y = np.array([[11,12,13,14,15,16,17,18],[21,22,23,24,25,26,27,28],[31,32,33,34,35,36,37,38]], dtype=np.int_)\n",
    "# Fill the code to receive the expected output from Exercise 5\n",
    "\n"
   ]
  },
  {
   "cell_type": "markdown",
   "metadata": {
    "id": "a_9PN76WnLmd"
   },
   "source": [
    "<caption><u><b>Exercise 6</u></b>: Expected output <br></caption>\n",
    "\n",
    "[[24 26]\n",
    "\n",
    " [34 36]]\n"
   ]
  },
  {
   "cell_type": "code",
   "execution_count": 90,
   "metadata": {
    "id": "LoWg3zxLnAgJ"
   },
   "outputs": [],
   "source": [
    "y = np.array([[11,12,13,14,15,16,17,18],[21,22,23,24,25,26,27,28],[31,32,33,34,35,36,37,38]], dtype=np.int_)\n",
    "# Fill the code to receive the expected output from Exercise 6\n"
   ]
  },
  {
   "cell_type": "markdown",
   "metadata": {
    "id": "QHlXygOFnYTH"
   },
   "source": [
    "# Array Comparison and Boolean Indexing"
   ]
  },
  {
   "cell_type": "markdown",
   "metadata": {
    "id": "MsVhK9MbnsaO"
   },
   "source": [
    "##### Instruction: Run code, observe output and answer the questions"
   ]
  },
  {
   "cell_type": "markdown",
   "metadata": {},
   "source": [
    "<caption><u><b>Exercise 7</u></b>: <br></caption>"
   ]
  },
  {
   "cell_type": "code",
   "execution_count": 91,
   "metadata": {
    "id": "lFqohiZGnpT6"
   },
   "outputs": [
    {
     "name": "stdout",
     "output_type": "stream",
     "text": [
      "[False  True False]\n",
      "[ True False  True]\n"
     ]
    }
   ],
   "source": [
    "# Exercise 7\n",
    "x = np.array([10,20,30])\n",
    "y = np.array([1,20,3])\n",
    "print(x == y)\n",
    "print(x > y)"
   ]
  },
  {
   "cell_type": "markdown",
   "metadata": {
    "id": "mYy7my8Ao4aJ"
   },
   "source": [
    "Question: Explain why the result of Exercise 7 turns out like that"
   ]
  },
  {
   "cell_type": "markdown",
   "metadata": {
    "id": "_SNs4qZzo7cB"
   },
   "source": [
    "Answer: # Type your answer here"
   ]
  },
  {
   "cell_type": "markdown",
   "metadata": {},
   "source": [
    "<caption><u><b>Exercise 8</u></b>: <br></caption>"
   ]
  },
  {
   "cell_type": "code",
   "execution_count": 92,
   "metadata": {
    "id": "-G1VQQRzoVrj"
   },
   "outputs": [
    {
     "data": {
      "text/plain": [
       "array([10])"
      ]
     },
     "execution_count": 92,
     "metadata": {},
     "output_type": "execute_result"
    }
   ],
   "source": [
    "# Exercise 8\n",
    "x = np.array([10,20,30])\n",
    "x[x < 15]"
   ]
  },
  {
   "cell_type": "markdown",
   "metadata": {
    "id": "3t-FTRazoYTk"
   },
   "source": [
    "Question: Explain why the result of Exercise 8 turns out like that"
   ]
  },
  {
   "cell_type": "markdown",
   "metadata": {
    "id": "8Jv0tmCwofep"
   },
   "source": [
    "Answer: # Type your answer here"
   ]
  },
  {
   "cell_type": "markdown",
   "metadata": {},
   "source": [
    "<caption><u><b>Exercise 9</u></b>: <br></caption>"
   ]
  },
  {
   "cell_type": "code",
   "execution_count": 93,
   "metadata": {
    "id": "ngi4ID9KolA3"
   },
   "outputs": [
    {
     "data": {
      "text/plain": [
       "array([1, 3])"
      ]
     },
     "execution_count": 93,
     "metadata": {},
     "output_type": "execute_result"
    }
   ],
   "source": [
    "# Exercise 9\n",
    "y = np.array([1,20,3])\n",
    "y[y < 15]"
   ]
  },
  {
   "cell_type": "markdown",
   "metadata": {
    "id": "CTz1KZnbo5Ex"
   },
   "source": [
    "Question: Explain why the result of Exercise 9 turns out like that"
   ]
  },
  {
   "cell_type": "markdown",
   "metadata": {
    "id": "kd-haqrGo8Jh"
   },
   "source": [
    "Answer: # Type your answer here"
   ]
  },
  {
   "cell_type": "markdown",
   "metadata": {
    "id": "avKFqJQ_olx2"
   },
   "source": [
    "# Array Assignment, View, and Copy"
   ]
  },
  {
   "cell_type": "markdown",
   "metadata": {
    "id": "Y0jShLIvpA-a"
   },
   "source": [
    "##### Instruction: Run code, observe output and answer the questions"
   ]
  },
  {
   "cell_type": "code",
   "execution_count": 94,
   "metadata": {
    "id": "cpBm-ltspDdf"
   },
   "outputs": [
    {
     "data": {
      "text/plain": [
       "array([10, 20,  0])"
      ]
     },
     "execution_count": 94,
     "metadata": {},
     "output_type": "execute_result"
    }
   ],
   "source": [
    "x = np.array([10,20,30])\n",
    "y1 = x\n",
    "y1[2] = 0\n",
    "x"
   ]
  },
  {
   "cell_type": "code",
   "execution_count": 95,
   "metadata": {
    "id": "eF9_s78SpF0Z"
   },
   "outputs": [
    {
     "data": {
      "text/plain": [
       "array([10, 20,  0])"
      ]
     },
     "execution_count": 95,
     "metadata": {},
     "output_type": "execute_result"
    }
   ],
   "source": [
    "x = np.array([10,20,30])\n",
    "y2 = x.view()\n",
    "y2[2] = 0\n",
    "x"
   ]
  },
  {
   "cell_type": "code",
   "execution_count": 96,
   "metadata": {
    "id": "buE-xW0dpJSZ"
   },
   "outputs": [
    {
     "data": {
      "text/plain": [
       "array([10, 20, 30])"
      ]
     },
     "execution_count": 96,
     "metadata": {},
     "output_type": "execute_result"
    }
   ],
   "source": [
    "x = np.array([10,20,30])\n",
    "y3 = x.copy()\n",
    "y3[2] = 0\n",
    "x"
   ]
  },
  {
   "cell_type": "markdown",
   "metadata": {
    "id": "1yT6TuqMpLrG"
   },
   "source": [
    "Question:  From Assignment (=), View and Copy, which one duplicates the existing array by creating a new copy of the existing array?"
   ]
  },
  {
   "cell_type": "markdown",
   "metadata": {
    "id": "gJM-ySh5pMnJ"
   },
   "source": [
    "Answer: # Type your answer here"
   ]
  },
  {
   "cell_type": "markdown",
   "metadata": {
    "id": "qLiwMrovpPbT"
   },
   "source": [
    "# Array with equally-spaced values"
   ]
  },
  {
   "cell_type": "markdown",
   "metadata": {
    "id": "4dOXzLXGpSE_"
   },
   "source": [
    "Question: If we would like to create a new Numpy array with equally-spaced values as shown in the output, what to fill for the code?  "
   ]
  },
  {
   "cell_type": "markdown",
   "metadata": {
    "id": "vWMXsLbEqoLW"
   },
   "source": [
    "<caption><u><b>Exercise 10</u></b>: Expected Output<br></caption>\n",
    "\n",
    "![picture](images/numpy_output3.png)\n",
    "\n",
    "If you cannot see the image, click this link: https://drive.google.com/file/d/12hhpoK6ElpbRpjBRSU-XuM670eBtB3ua/view?usp=drive_link"
   ]
  },
  {
   "cell_type": "code",
   "execution_count": 97,
   "metadata": {
    "id": "hkYHtuyppVCp"
   },
   "outputs": [],
   "source": [
    "# Fill the code to receive the expected output from Exercise 10\n",
    "# You must use arange function to derive the Exercise-10 expected output\n"
   ]
  },
  {
   "cell_type": "markdown",
   "metadata": {
    "id": "EgA90U3arKMz"
   },
   "source": [
    "<caption><u><b>Exercise 11</u></b>: Expected Output<br></caption>\n",
    "    \n",
    "![picture](images/numpy_output4.png)\n",
    "\n",
    "If you cannot see the image, click this link: https://drive.google.com/file/d/1K9Hd9Y4VeiEfUuBNutU19_6CbW2igi1g/view?usp=drive_link"
   ]
  },
  {
   "cell_type": "code",
   "execution_count": 98,
   "metadata": {
    "id": "ejGEi7Sjq9Tw"
   },
   "outputs": [],
   "source": [
    "# Fill the code to receive the expected output from Exercise 11\n",
    "# You must use linspace function to derive the Exercise-11 expected output\n"
   ]
  },
  {
   "cell_type": "markdown",
   "metadata": {
    "id": "2c_BNkuFrPDT"
   },
   "source": [
    "# Array with randomized values"
   ]
  },
  {
   "cell_type": "markdown",
   "metadata": {
    "id": "dGEUNdt1rF8z"
   },
   "source": [
    "<caption><u><b>Exercise 12</u></b>: <br></caption>\n",
    "\n",
    "Question: Create a Numpy array with 20 randomized values between 50 and 100.  Fill in and run your code below."
   ]
  },
  {
   "cell_type": "code",
   "execution_count": 99,
   "metadata": {
    "id": "3e6M2NvvrTKM"
   },
   "outputs": [],
   "source": [
    "# Fill in the code for Exercise 12\n"
   ]
  },
  {
   "cell_type": "markdown",
   "metadata": {},
   "source": [
    "<caption><u><b>Exercise 13</u></b>: <br></caption>"
   ]
  },
  {
   "cell_type": "code",
   "execution_count": 100,
   "metadata": {
    "id": "GV73Y8DTrf8z"
   },
   "outputs": [
    {
     "data": {
      "text/plain": [
       "array([0.08074127, 0.7384403 , 0.44130922, 0.15830987, 0.87993703,\n",
       "       0.27408646, 0.41423502, 0.29607993, 0.62878791, 0.57983781])"
      ]
     },
     "execution_count": 100,
     "metadata": {},
     "output_type": "execute_result"
    }
   ],
   "source": [
    "# Code for Exercise 13\n",
    "x1 = np.random.random(10)\n",
    "x1"
   ]
  },
  {
   "cell_type": "markdown",
   "metadata": {
    "id": "GnnkBcR_rdPY"
   },
   "source": [
    "Question: Run code for Exercise 13 twice.  Insert the resulting arrays into output13.1 and output13.2 respectively.   "
   ]
  },
  {
   "cell_type": "markdown",
   "metadata": {
    "id": "BqakVezcEHXo"
   },
   "source": [
    "Answer: # Insert output13.1 from Exercise 13 here"
   ]
  },
  {
   "cell_type": "markdown",
   "metadata": {
    "id": "JV51uOvAEZ2r"
   },
   "source": [
    "Answer: # Insert output13.2 from Exercise 13 here"
   ]
  },
  {
   "cell_type": "markdown",
   "metadata": {},
   "source": [
    "<caption><u><b>Exercise 14</u></b>: <br></caption>"
   ]
  },
  {
   "cell_type": "code",
   "execution_count": 101,
   "metadata": {
    "id": "gn1Qf2xPEhEC"
   },
   "outputs": [
    {
     "data": {
      "text/plain": [
       "array([0.5488135 , 0.71518937, 0.60276338, 0.54488318, 0.4236548 ,\n",
       "       0.64589411, 0.43758721, 0.891773  , 0.96366276, 0.38344152])"
      ]
     },
     "execution_count": 101,
     "metadata": {},
     "output_type": "execute_result"
    }
   ],
   "source": [
    "# Code for Exercise 14\n",
    "np.random.seed(0)\n",
    "x2 = np.random.random(10)\n",
    "x2"
   ]
  },
  {
   "cell_type": "markdown",
   "metadata": {
    "id": "DARg2hHaEnvZ"
   },
   "source": [
    "Question: Run code for Exercise 14 twice.  Insert the resulting arrays into output14.1 and output14.2 respectively.  "
   ]
  },
  {
   "cell_type": "markdown",
   "metadata": {
    "id": "S8PlMCxlEuOM"
   },
   "source": [
    "Answer: # Insert output14.1 from Exercise 14 here"
   ]
  },
  {
   "cell_type": "markdown",
   "metadata": {
    "id": "LGqUkI1zEwKo"
   },
   "source": [
    "Answer: # Insert output14.2 from Exercise 14 here"
   ]
  },
  {
   "cell_type": "markdown",
   "metadata": {},
   "source": [
    "<caption><u><b>Exercise 15</u></b>: <br></caption>"
   ]
  },
  {
   "cell_type": "code",
   "execution_count": 102,
   "metadata": {
    "id": "UjZhRuSAE0RE"
   },
   "outputs": [
    {
     "data": {
      "text/plain": [
       "array([0.22199317, 0.87073231, 0.20671916, 0.91861091, 0.48841119,\n",
       "       0.61174386, 0.76590786, 0.51841799, 0.2968005 , 0.18772123])"
      ]
     },
     "execution_count": 102,
     "metadata": {},
     "output_type": "execute_result"
    }
   ],
   "source": [
    "# Code for Exercise 15\n",
    "np.random.seed(5)\n",
    "x3 = np.random.random(10)\n",
    "x3"
   ]
  },
  {
   "cell_type": "markdown",
   "metadata": {
    "id": "W_yfOj9FE95s"
   },
   "source": [
    "Question: Run code for Exercise 15 twice.  Insert the resulting arrays into output15.1 and output15.2 respectively.  "
   ]
  },
  {
   "cell_type": "markdown",
   "metadata": {
    "id": "7c6Ijvr2FRva"
   },
   "source": [
    "Answer: # Insert output15.1 from Exercise 15 here"
   ]
  },
  {
   "cell_type": "markdown",
   "metadata": {
    "id": "_MfNkHe3FRpm"
   },
   "source": [
    "Answer: # Insert output15.2 from Exercise 15 here"
   ]
  },
  {
   "cell_type": "markdown",
   "metadata": {
    "id": "bQTWrpgAFYZd"
   },
   "source": [
    "Question: How can you conclude from using np.random.seed and not using np.random.seed?"
   ]
  },
  {
   "cell_type": "markdown",
   "metadata": {
    "id": "fZ7gYNqLFZ8K"
   },
   "source": [
    "Answer: # Type your answer here"
   ]
  },
  {
   "cell_type": "markdown",
   "metadata": {},
   "source": [
    "<caption><u><b>Exercise 16</u></b>: <br></caption>"
   ]
  },
  {
   "cell_type": "markdown",
   "metadata": {
    "id": "50zL9C3CF6db"
   },
   "source": [
    "Question: Create a Numpy array, named w, with 1000 randomized values based on normal distribution where mean = 0 and standard deviation = 1.   \n",
    "\n",
    "**See whether the histogram of w looks like normal distribution where mean = 0 and standard deviation = 1 or not.**"
   ]
  },
  {
   "cell_type": "code",
   "execution_count": 103,
   "metadata": {
    "id": "C_db2GjqF-GT"
   },
   "outputs": [
    {
     "ename": "NameError",
     "evalue": "name 'w' is not defined",
     "output_type": "error",
     "traceback": [
      "\u001b[31m---------------------------------------------------------------------------\u001b[39m",
      "\u001b[31mNameError\u001b[39m                                 Traceback (most recent call last)",
      "\u001b[36mCell\u001b[39m\u001b[36m \u001b[39m\u001b[32mIn[103]\u001b[39m\u001b[32m, line 7\u001b[39m\n\u001b[32m      1\u001b[39m \u001b[38;5;66;03m#Fill in your code for Exercise 16 to create numpy array as specified and named this array w.\u001b[39;00m\n\u001b[32m      2\u001b[39m \u001b[38;5;66;03m#Fil in the code here\u001b[39;00m\n\u001b[32m      3\u001b[39m \n\u001b[32m      4\u001b[39m \n\u001b[32m      5\u001b[39m \u001b[38;5;66;03m# Do not delete the following 2 lines.  It is given for plotting histogram using w.\u001b[39;00m\n\u001b[32m      6\u001b[39m \u001b[38;5;28;01mimport\u001b[39;00m\u001b[38;5;250m \u001b[39m\u001b[34;01mmatplotlib\u001b[39;00m\u001b[34;01m.\u001b[39;00m\u001b[34;01mpyplot\u001b[39;00m\u001b[38;5;250m \u001b[39m\u001b[38;5;28;01mas\u001b[39;00m\u001b[38;5;250m \u001b[39m\u001b[34;01mplt\u001b[39;00m\n\u001b[32m----> \u001b[39m\u001b[32m7\u001b[39m plt.hist(\u001b[43mw\u001b[49m, density=\u001b[38;5;28;01mTrue\u001b[39;00m)\n",
      "\u001b[31mNameError\u001b[39m: name 'w' is not defined"
     ]
    }
   ],
   "source": [
    "#Fill in your code for Exercise 16 to create numpy array as specified and named this array w.\n",
    "#Fil in the code here\n",
    "\n",
    "\n",
    "# Do not delete the following 2 lines.  It is given for plotting histogram using w.\n",
    "import matplotlib.pyplot as plt\n",
    "plt.hist(w, density=True)"
   ]
  },
  {
   "cell_type": "markdown",
   "metadata": {},
   "source": [
    "<caption><u><b>Exercise 17</u></b>: <br></caption>"
   ]
  },
  {
   "cell_type": "markdown",
   "metadata": {
    "id": "QmTWOyr2Go5C"
   },
   "source": [
    "Question: Create a Numpy array, named w, with 1000 randomized values based on binomial distribution where n = 20 and p = 0.4.  \n",
    "\n",
    "**See whether the histogram of w looks like binormal distribution where n = 20 and p = 0.4 or not.**\n"
   ]
  },
  {
   "cell_type": "code",
   "execution_count": null,
   "metadata": {
    "id": "bVRf6UiNG5xF"
   },
   "outputs": [],
   "source": [
    "#Fill in your code to create numpy array as specified and named this array w.\n",
    "#Fil in the code here\n",
    "\n",
    "\n",
    "# Do not delete the following 2 lines.  It is given for plotting histogram using w.\n",
    "import matplotlib.pyplot as plt\n",
    "plt.hist(w, density=True)"
   ]
  },
  {
   "cell_type": "markdown",
   "metadata": {
    "id": "6DhasrX6Hr9K"
   },
   "source": [
    "# Math Operations and Functions"
   ]
  },
  {
   "cell_type": "code",
   "execution_count": null,
   "metadata": {
    "id": "Smf_bYptH1-a"
   },
   "outputs": [],
   "source": [
    "# Run the following code and try to understand the outputs\n",
    "x = np.array([10,20,30])\n",
    "y = np.array([1,2,3])\n",
    "print(x+y)\n",
    "print(np.add(x,y))\n",
    "print(x-y)\n",
    "print(np.subtract(x,y))\n",
    "print(x*y)\n",
    "print(np.multiply(x,y))\n",
    "print(x/y)\n",
    "print(np.divide(x,y))"
   ]
  },
  {
   "cell_type": "code",
   "execution_count": null,
   "metadata": {
    "id": "hGbYjI-BIDQu"
   },
   "outputs": [],
   "source": [
    "# Run the following code and answer the question below\n",
    "x = np.array([1,25,30])\n",
    "print(x.sum())\n",
    "print(x.cumsum())\n"
   ]
  },
  {
   "cell_type": "markdown",
   "metadata": {
    "id": "DLMfKoMtNyl-"
   },
   "source": [
    "Question: What is the difference between sum() and cumsum() functions?"
   ]
  },
  {
   "cell_type": "markdown",
   "metadata": {
    "id": "tiGXYCGSN0Hr"
   },
   "source": [
    "Answer: # Type your answer here."
   ]
  },
  {
   "cell_type": "code",
   "execution_count": null,
   "metadata": {
    "id": "93vb16sdNoCS"
   },
   "outputs": [],
   "source": [
    "# Run the following code and try to understand the outputs\n",
    "x = np.array([1,25,30])\n",
    "print(np.sqrt(x))\n",
    "print(np.log(x))\n",
    "print(np.sin(x))"
   ]
  },
  {
   "cell_type": "markdown",
   "metadata": {},
   "source": [
    "<caption><u><b>Exercise 18</u></b>: <br></caption>"
   ]
  },
  {
   "cell_type": "code",
   "execution_count": null,
   "metadata": {
    "id": "sAxMtFkENsf1"
   },
   "outputs": [],
   "source": [
    "# Exercise 18\n",
    "\n",
    "# Run the following code and answer the question below\n",
    "w = np.random.normal(0,1,size=1000)\n",
    "print(np.mean(w))\n",
    "print(np.std(w))\n",
    "print(np.min(w))\n",
    "print(np.max(w))"
   ]
  },
  {
   "cell_type": "markdown",
   "metadata": {
    "id": "Ww3nlVXhN8px"
   },
   "source": [
    "Question: Are the values from np.mean(w) and np.std(w) from Exercise 18 close to expected value and standard deviation of Normal(0,1)?\n"
   ]
  },
  {
   "cell_type": "markdown",
   "metadata": {
    "id": "yBulMV2nOVzp"
   },
   "source": [
    "Answer: # Type your answer here"
   ]
  },
  {
   "cell_type": "markdown",
   "metadata": {
    "id": "dCuOtqfsOfwp"
   },
   "source": [
    "# Matrix Operations and Functions"
   ]
  },
  {
   "cell_type": "code",
   "execution_count": null,
   "metadata": {
    "id": "jLXK-XmaO3Jd"
   },
   "outputs": [],
   "source": [
    "# Run the following code and try to understand the outputs\n",
    "x = np.array([10,20,30])\n",
    "y = np.array([1,2,3])\n",
    "x.dot(y)"
   ]
  },
  {
   "cell_type": "code",
   "execution_count": null,
   "metadata": {
    "id": "HaeJ6xbhO4Lh"
   },
   "outputs": [],
   "source": [
    "# Run the following code and try to understand the outputs\n",
    "A1 = np.array([[1,2], [3,4]])\n",
    "A1.T"
   ]
  },
  {
   "cell_type": "markdown",
   "metadata": {},
   "source": [
    "<caption><u><b>Exercise 19</u></b>: <br></caption>"
   ]
  },
  {
   "cell_type": "code",
   "execution_count": null,
   "metadata": {
    "id": "GwsKZ_lHO8A3"
   },
   "outputs": [],
   "source": [
    "# Exercise 19\n",
    "A1 = np.array([[1,2], [3,4]])\n",
    "B1 = np.array([[5,6], [7,8]])\n",
    "print(A1+B1)\n",
    "print(A1*B1)"
   ]
  },
  {
   "cell_type": "markdown",
   "metadata": {},
   "source": [
    "<caption><u><b>Exercise 20</u></b>: <br></caption>"
   ]
  },
  {
   "cell_type": "code",
   "execution_count": null,
   "metadata": {
    "id": "-ddxoPvYO-IN"
   },
   "outputs": [],
   "source": [
    "# Exercise 20\n",
    "A2 = np.matrix([[1,2], [3,4]])\n",
    "B2 = np.matrix([[5,6], [7,8]])\n",
    "print(A2+B2)\n",
    "print(A2*B2)"
   ]
  },
  {
   "cell_type": "markdown",
   "metadata": {
    "id": "r5adx1UgPAR3"
   },
   "source": [
    "Question: From Exercises 19-20. what can you conclude from numpy array operation, compared to numpy matrix operation?"
   ]
  },
  {
   "cell_type": "markdown",
   "metadata": {
    "id": "jhVRdf_LPCeO"
   },
   "source": [
    "Answer : # Type your answer here"
   ]
  }
 ],
 "metadata": {
  "colab": {
   "provenance": [],
   "toc_visible": true
  },
  "kernelspec": {
   "display_name": "Python 3 (ipykernel)",
   "language": "python",
   "name": "python3"
  },
  "language_info": {
   "codemirror_mode": {
    "name": "ipython",
    "version": 3
   },
   "file_extension": ".py",
   "mimetype": "text/x-python",
   "name": "python",
   "nbconvert_exporter": "python",
   "pygments_lexer": "ipython3",
   "version": "3.11.2"
  }
 },
 "nbformat": 4,
 "nbformat_minor": 4
}
